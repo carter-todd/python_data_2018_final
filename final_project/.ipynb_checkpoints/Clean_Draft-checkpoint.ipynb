{
 "cells": [
  {
   "cell_type": "code",
   "execution_count": 1,
   "metadata": {},
   "outputs": [],
   "source": [
    "#Initial imports\n",
    "import pandas as pd\n",
    "import numpy as np \n",
    "import sqlite3 \n",
    "\n",
    "\n",
    "#"
   ]
  },
  {
   "cell_type": "code",
   "execution_count": 2,
   "metadata": {},
   "outputs": [],
   "source": [
    "#Connect to database\n",
    "conn = sqlite3.connect('avocado.db')"
   ]
  },
  {
   "cell_type": "code",
   "execution_count": 3,
   "metadata": {},
   "outputs": [],
   "source": [
    "#Create cursor\n",
    "cur = conn.cursor()\n",
    "avo = cur.execute(\"\"\"\n",
    "  select * from avocado;\"\"\"\n",
    ").fetchall()"
   ]
  },
  {
   "cell_type": "code",
   "execution_count": 4,
   "metadata": {},
   "outputs": [],
   "source": [
    "#Create first dataframe\n",
    "df = pd.DataFrame(data=avo)"
   ]
  },
  {
   "cell_type": "code",
   "execution_count": 5,
   "metadata": {},
   "outputs": [
    {
     "data": {
      "text/html": [
       "<div>\n",
       "<style scoped>\n",
       "    .dataframe tbody tr th:only-of-type {\n",
       "        vertical-align: middle;\n",
       "    }\n",
       "\n",
       "    .dataframe tbody tr th {\n",
       "        vertical-align: top;\n",
       "    }\n",
       "\n",
       "    .dataframe thead th {\n",
       "        text-align: right;\n",
       "    }\n",
       "</style>\n",
       "<table border=\"1\" class=\"dataframe\">\n",
       "  <thead>\n",
       "    <tr style=\"text-align: right;\">\n",
       "      <th></th>\n",
       "      <th>0</th>\n",
       "      <th>1</th>\n",
       "      <th>2</th>\n",
       "      <th>3</th>\n",
       "      <th>4</th>\n",
       "      <th>5</th>\n",
       "      <th>6</th>\n",
       "      <th>7</th>\n",
       "      <th>8</th>\n",
       "      <th>9</th>\n",
       "      <th>10</th>\n",
       "      <th>11</th>\n",
       "      <th>12</th>\n",
       "      <th>13</th>\n",
       "    </tr>\n",
       "  </thead>\n",
       "  <tbody>\n",
       "    <tr>\n",
       "      <th>0</th>\n",
       "      <td>0</td>\n",
       "      <td>2015-12-27</td>\n",
       "      <td>1.33</td>\n",
       "      <td>64236.62</td>\n",
       "      <td>1036.74</td>\n",
       "      <td>54454.85</td>\n",
       "      <td>48.16</td>\n",
       "      <td>8696.87</td>\n",
       "      <td>8603.62</td>\n",
       "      <td>93.25</td>\n",
       "      <td>0.0</td>\n",
       "      <td>conventional</td>\n",
       "      <td>2015</td>\n",
       "      <td>Albany</td>\n",
       "    </tr>\n",
       "    <tr>\n",
       "      <th>1</th>\n",
       "      <td>1</td>\n",
       "      <td>2015-12-20</td>\n",
       "      <td>1.35</td>\n",
       "      <td>54876.98</td>\n",
       "      <td>674.28</td>\n",
       "      <td>44638.81</td>\n",
       "      <td>58.33</td>\n",
       "      <td>9505.56</td>\n",
       "      <td>9408.07</td>\n",
       "      <td>97.49</td>\n",
       "      <td>0.0</td>\n",
       "      <td>conventional</td>\n",
       "      <td>2015</td>\n",
       "      <td>Albany</td>\n",
       "    </tr>\n",
       "    <tr>\n",
       "      <th>2</th>\n",
       "      <td>2</td>\n",
       "      <td>2015-12-13</td>\n",
       "      <td>0.93</td>\n",
       "      <td>118220.22</td>\n",
       "      <td>794.70</td>\n",
       "      <td>109149.67</td>\n",
       "      <td>130.50</td>\n",
       "      <td>8145.35</td>\n",
       "      <td>8042.21</td>\n",
       "      <td>103.14</td>\n",
       "      <td>0.0</td>\n",
       "      <td>conventional</td>\n",
       "      <td>2015</td>\n",
       "      <td>Albany</td>\n",
       "    </tr>\n",
       "    <tr>\n",
       "      <th>3</th>\n",
       "      <td>3</td>\n",
       "      <td>2015-12-06</td>\n",
       "      <td>1.08</td>\n",
       "      <td>78992.15</td>\n",
       "      <td>1132.00</td>\n",
       "      <td>71976.41</td>\n",
       "      <td>72.58</td>\n",
       "      <td>5811.16</td>\n",
       "      <td>5677.40</td>\n",
       "      <td>133.76</td>\n",
       "      <td>0.0</td>\n",
       "      <td>conventional</td>\n",
       "      <td>2015</td>\n",
       "      <td>Albany</td>\n",
       "    </tr>\n",
       "    <tr>\n",
       "      <th>4</th>\n",
       "      <td>4</td>\n",
       "      <td>2015-11-29</td>\n",
       "      <td>1.28</td>\n",
       "      <td>51039.60</td>\n",
       "      <td>941.48</td>\n",
       "      <td>43838.39</td>\n",
       "      <td>75.78</td>\n",
       "      <td>6183.95</td>\n",
       "      <td>5986.26</td>\n",
       "      <td>197.69</td>\n",
       "      <td>0.0</td>\n",
       "      <td>conventional</td>\n",
       "      <td>2015</td>\n",
       "      <td>Albany</td>\n",
       "    </tr>\n",
       "  </tbody>\n",
       "</table>\n",
       "</div>"
      ],
      "text/plain": [
       "   0           1     2          3        4          5       6        7   \\\n",
       "0   0  2015-12-27  1.33   64236.62  1036.74   54454.85   48.16  8696.87   \n",
       "1   1  2015-12-20  1.35   54876.98   674.28   44638.81   58.33  9505.56   \n",
       "2   2  2015-12-13  0.93  118220.22   794.70  109149.67  130.50  8145.35   \n",
       "3   3  2015-12-06  1.08   78992.15  1132.00   71976.41   72.58  5811.16   \n",
       "4   4  2015-11-29  1.28   51039.60   941.48   43838.39   75.78  6183.95   \n",
       "\n",
       "        8       9    10            11    12      13  \n",
       "0  8603.62   93.25  0.0  conventional  2015  Albany  \n",
       "1  9408.07   97.49  0.0  conventional  2015  Albany  \n",
       "2  8042.21  103.14  0.0  conventional  2015  Albany  \n",
       "3  5677.40  133.76  0.0  conventional  2015  Albany  \n",
       "4  5986.26  197.69  0.0  conventional  2015  Albany  "
      ]
     },
     "execution_count": 5,
     "metadata": {},
     "output_type": "execute_result"
    }
   ],
   "source": [
    "#Preview the data\n",
    "df.head()"
   ]
  },
  {
   "cell_type": "code",
   "execution_count": 6,
   "metadata": {},
   "outputs": [
    {
     "name": "stdout",
     "output_type": "stream",
     "text": [
      "field1\n",
      "Date\n",
      "AveragePrice\n",
      "TotalVolume\n",
      "4046\n",
      "4225\n",
      "4770\n",
      "TotalBags\n",
      "SmallBags\n",
      "LargeBags\n",
      "XLargeBags\n",
      "type\n",
      "year\n",
      "region\n"
     ]
    }
   ],
   "source": [
    "#Column names are missing. \n",
    "#Make a for loop to see names of columns.\n",
    "colnames = cur.description\n",
    "for row in colnames:\n",
    "    print (row[0])"
   ]
  },
  {
   "cell_type": "code",
   "execution_count": 7,
   "metadata": {},
   "outputs": [],
   "source": [
    "#Add column names to our table\n",
    "Frame=pd.DataFrame(avo, columns = [\"field1\", \"Date\", \"AveragePrice\", \"TotalPrice\",\"4046\",\"4225\",\"4770\",\"TotalBags\",\"SmallBags\",\n",
    "                                  \"LargeBags\",\"XLargeBags\",\"type\",\"year\",\"region\"])"
   ]
  },
  {
   "cell_type": "code",
   "execution_count": 8,
   "metadata": {},
   "outputs": [
    {
     "data": {
      "text/html": [
       "<div>\n",
       "<style scoped>\n",
       "    .dataframe tbody tr th:only-of-type {\n",
       "        vertical-align: middle;\n",
       "    }\n",
       "\n",
       "    .dataframe tbody tr th {\n",
       "        vertical-align: top;\n",
       "    }\n",
       "\n",
       "    .dataframe thead th {\n",
       "        text-align: right;\n",
       "    }\n",
       "</style>\n",
       "<table border=\"1\" class=\"dataframe\">\n",
       "  <thead>\n",
       "    <tr style=\"text-align: right;\">\n",
       "      <th></th>\n",
       "      <th>field1</th>\n",
       "      <th>Date</th>\n",
       "      <th>AveragePrice</th>\n",
       "      <th>TotalPrice</th>\n",
       "      <th>4046</th>\n",
       "      <th>4225</th>\n",
       "      <th>4770</th>\n",
       "      <th>TotalBags</th>\n",
       "      <th>SmallBags</th>\n",
       "      <th>LargeBags</th>\n",
       "      <th>XLargeBags</th>\n",
       "      <th>type</th>\n",
       "      <th>year</th>\n",
       "      <th>region</th>\n",
       "    </tr>\n",
       "  </thead>\n",
       "  <tbody>\n",
       "    <tr>\n",
       "      <th>0</th>\n",
       "      <td>0</td>\n",
       "      <td>2015-12-27</td>\n",
       "      <td>1.33</td>\n",
       "      <td>64236.62</td>\n",
       "      <td>1036.74</td>\n",
       "      <td>54454.85</td>\n",
       "      <td>48.16</td>\n",
       "      <td>8696.87</td>\n",
       "      <td>8603.62</td>\n",
       "      <td>93.25</td>\n",
       "      <td>0.0</td>\n",
       "      <td>conventional</td>\n",
       "      <td>2015</td>\n",
       "      <td>Albany</td>\n",
       "    </tr>\n",
       "    <tr>\n",
       "      <th>1</th>\n",
       "      <td>1</td>\n",
       "      <td>2015-12-20</td>\n",
       "      <td>1.35</td>\n",
       "      <td>54876.98</td>\n",
       "      <td>674.28</td>\n",
       "      <td>44638.81</td>\n",
       "      <td>58.33</td>\n",
       "      <td>9505.56</td>\n",
       "      <td>9408.07</td>\n",
       "      <td>97.49</td>\n",
       "      <td>0.0</td>\n",
       "      <td>conventional</td>\n",
       "      <td>2015</td>\n",
       "      <td>Albany</td>\n",
       "    </tr>\n",
       "    <tr>\n",
       "      <th>2</th>\n",
       "      <td>2</td>\n",
       "      <td>2015-12-13</td>\n",
       "      <td>0.93</td>\n",
       "      <td>118220.22</td>\n",
       "      <td>794.70</td>\n",
       "      <td>109149.67</td>\n",
       "      <td>130.50</td>\n",
       "      <td>8145.35</td>\n",
       "      <td>8042.21</td>\n",
       "      <td>103.14</td>\n",
       "      <td>0.0</td>\n",
       "      <td>conventional</td>\n",
       "      <td>2015</td>\n",
       "      <td>Albany</td>\n",
       "    </tr>\n",
       "    <tr>\n",
       "      <th>3</th>\n",
       "      <td>3</td>\n",
       "      <td>2015-12-06</td>\n",
       "      <td>1.08</td>\n",
       "      <td>78992.15</td>\n",
       "      <td>1132.00</td>\n",
       "      <td>71976.41</td>\n",
       "      <td>72.58</td>\n",
       "      <td>5811.16</td>\n",
       "      <td>5677.40</td>\n",
       "      <td>133.76</td>\n",
       "      <td>0.0</td>\n",
       "      <td>conventional</td>\n",
       "      <td>2015</td>\n",
       "      <td>Albany</td>\n",
       "    </tr>\n",
       "    <tr>\n",
       "      <th>4</th>\n",
       "      <td>4</td>\n",
       "      <td>2015-11-29</td>\n",
       "      <td>1.28</td>\n",
       "      <td>51039.60</td>\n",
       "      <td>941.48</td>\n",
       "      <td>43838.39</td>\n",
       "      <td>75.78</td>\n",
       "      <td>6183.95</td>\n",
       "      <td>5986.26</td>\n",
       "      <td>197.69</td>\n",
       "      <td>0.0</td>\n",
       "      <td>conventional</td>\n",
       "      <td>2015</td>\n",
       "      <td>Albany</td>\n",
       "    </tr>\n",
       "  </tbody>\n",
       "</table>\n",
       "</div>"
      ],
      "text/plain": [
       "   field1        Date  AveragePrice  TotalPrice     4046       4225    4770  \\\n",
       "0       0  2015-12-27          1.33    64236.62  1036.74   54454.85   48.16   \n",
       "1       1  2015-12-20          1.35    54876.98   674.28   44638.81   58.33   \n",
       "2       2  2015-12-13          0.93   118220.22   794.70  109149.67  130.50   \n",
       "3       3  2015-12-06          1.08    78992.15  1132.00   71976.41   72.58   \n",
       "4       4  2015-11-29          1.28    51039.60   941.48   43838.39   75.78   \n",
       "\n",
       "   TotalBags  SmallBags  LargeBags  XLargeBags          type  year  region  \n",
       "0    8696.87    8603.62      93.25         0.0  conventional  2015  Albany  \n",
       "1    9505.56    9408.07      97.49         0.0  conventional  2015  Albany  \n",
       "2    8145.35    8042.21     103.14         0.0  conventional  2015  Albany  \n",
       "3    5811.16    5677.40     133.76         0.0  conventional  2015  Albany  \n",
       "4    6183.95    5986.26     197.69         0.0  conventional  2015  Albany  "
      ]
     },
     "execution_count": 8,
     "metadata": {},
     "output_type": "execute_result"
    }
   ],
   "source": [
    "#Column names are now added to table\n",
    "Frame.head()"
   ]
  },
  {
   "cell_type": "code",
   "execution_count": 9,
   "metadata": {},
   "outputs": [],
   "source": [
    "#How does Louisville's average price for an avocado compare with the region with the highest average price for an avocado?\n",
    "conn2 = sqlite3.connect('avocado.db')"
   ]
  },
  {
   "cell_type": "code",
   "execution_count": 10,
   "metadata": {},
   "outputs": [],
   "source": [
    "#Execute a SQL query that finds the information we need to answer this question\n",
    "cur2 = conn2.cursor()\n",
    "avo2 = cur2.execute(\"\"\"\n",
    "  Select * from \n",
    "(\n",
    "SELECT \n",
    "REGION, \n",
    "AVG(AVERAGEPRICE) AS AVG_REGION_PRICE,\n",
    "MIN(AVERAGEPRICE) AS MIN_REGION_PRICE,\n",
    "MAX(AVERAGEPRICE) AS MAX_REGION_PRICE\n",
    "FROM AVOCADO\n",
    "GROUP BY REGION\n",
    "ORDER BY AVG(AVERAGEPRICE) DESC\n",
    "LIMIT 1\n",
    ")\n",
    "\n",
    "UNION\n",
    "\n",
    "SELECT \n",
    "REGION, \n",
    "AVG(AVERAGEPRICE) AS AVG_REGION_PRICE,\n",
    "MIN(AVERAGEPRICE) AS MIN_REGION_PRICE,\n",
    "MAX(AVERAGEPRICE) AS MAX_REGION_PRICE\n",
    "FROM AVOCADO\n",
    "WHERE REGION = 'Louisville'\n",
    "GROUP BY REGION\n",
    "ORDER BY AVG(AVERAGEPRICE) DESC\n",
    ";\"\"\"\n",
    ").fetchall()"
   ]
  },
  {
   "cell_type": "code",
   "execution_count": 11,
   "metadata": {},
   "outputs": [],
   "source": [
    "#Convert this query into a dataframe in order to illustrate it\n",
    "df2 = pd.DataFrame(data=avo2)"
   ]
  },
  {
   "cell_type": "code",
   "execution_count": 12,
   "metadata": {},
   "outputs": [
    {
     "data": {
      "text/html": [
       "<div>\n",
       "<style scoped>\n",
       "    .dataframe tbody tr th:only-of-type {\n",
       "        vertical-align: middle;\n",
       "    }\n",
       "\n",
       "    .dataframe tbody tr th {\n",
       "        vertical-align: top;\n",
       "    }\n",
       "\n",
       "    .dataframe thead th {\n",
       "        text-align: right;\n",
       "    }\n",
       "</style>\n",
       "<table border=\"1\" class=\"dataframe\">\n",
       "  <thead>\n",
       "    <tr style=\"text-align: right;\">\n",
       "      <th></th>\n",
       "      <th>0</th>\n",
       "      <th>1</th>\n",
       "      <th>2</th>\n",
       "      <th>3</th>\n",
       "    </tr>\n",
       "  </thead>\n",
       "  <tbody>\n",
       "    <tr>\n",
       "      <th>0</th>\n",
       "      <td>HartfordSpringfield</td>\n",
       "      <td>1.818639</td>\n",
       "      <td>0.86</td>\n",
       "      <td>2.68</td>\n",
       "    </tr>\n",
       "    <tr>\n",
       "      <th>1</th>\n",
       "      <td>Louisville</td>\n",
       "      <td>1.286686</td>\n",
       "      <td>0.56</td>\n",
       "      <td>2.29</td>\n",
       "    </tr>\n",
       "  </tbody>\n",
       "</table>\n",
       "</div>"
      ],
      "text/plain": [
       "                     0         1     2     3\n",
       "0  HartfordSpringfield  1.818639  0.86  2.68\n",
       "1           Louisville  1.286686  0.56  2.29"
      ]
     },
     "execution_count": 12,
     "metadata": {},
     "output_type": "execute_result"
    }
   ],
   "source": [
    "#View dataframe\n",
    "df2.head()"
   ]
  },
  {
   "cell_type": "code",
   "execution_count": 13,
   "metadata": {},
   "outputs": [
    {
     "name": "stdout",
     "output_type": "stream",
     "text": [
      "REGION\n",
      "AVG_REGION_PRICE\n",
      "MIN_REGION_PRICE\n",
      "MAX_REGION_PRICE\n"
     ]
    }
   ],
   "source": [
    "#No column names like before.  let's add them\n",
    "colnames2 = cur2.description\n",
    "for row in colnames2:\n",
    "    print (row[0])"
   ]
  },
  {
   "cell_type": "code",
   "execution_count": 14,
   "metadata": {},
   "outputs": [],
   "source": [
    "Frame2=pd.DataFrame(avo2, columns = [\"REGION\", \"AVG_REGION_PRICE\", \"MIN_REGION_PRICE\",\"MAX_REGION_PRICE\"])"
   ]
  },
  {
   "cell_type": "code",
   "execution_count": 15,
   "metadata": {},
   "outputs": [
    {
     "data": {
      "text/html": [
       "<div>\n",
       "<style scoped>\n",
       "    .dataframe tbody tr th:only-of-type {\n",
       "        vertical-align: middle;\n",
       "    }\n",
       "\n",
       "    .dataframe tbody tr th {\n",
       "        vertical-align: top;\n",
       "    }\n",
       "\n",
       "    .dataframe thead th {\n",
       "        text-align: right;\n",
       "    }\n",
       "</style>\n",
       "<table border=\"1\" class=\"dataframe\">\n",
       "  <thead>\n",
       "    <tr style=\"text-align: right;\">\n",
       "      <th></th>\n",
       "      <th>REGION</th>\n",
       "      <th>AVG_REGION_PRICE</th>\n",
       "      <th>MIN_REGION_PRICE</th>\n",
       "      <th>MAX_REGION_PRICE</th>\n",
       "    </tr>\n",
       "  </thead>\n",
       "  <tbody>\n",
       "    <tr>\n",
       "      <th>0</th>\n",
       "      <td>HartfordSpringfield</td>\n",
       "      <td>1.818639</td>\n",
       "      <td>0.86</td>\n",
       "      <td>2.68</td>\n",
       "    </tr>\n",
       "    <tr>\n",
       "      <th>1</th>\n",
       "      <td>Louisville</td>\n",
       "      <td>1.286686</td>\n",
       "      <td>0.56</td>\n",
       "      <td>2.29</td>\n",
       "    </tr>\n",
       "  </tbody>\n",
       "</table>\n",
       "</div>"
      ],
      "text/plain": [
       "                REGION  AVG_REGION_PRICE  MIN_REGION_PRICE  MAX_REGION_PRICE\n",
       "0  HartfordSpringfield          1.818639              0.86              2.68\n",
       "1           Louisville          1.286686              0.56              2.29"
      ]
     },
     "execution_count": 15,
     "metadata": {},
     "output_type": "execute_result"
    }
   ],
   "source": [
    "#Column names are now added\n",
    "Frame2.head()"
   ]
  },
  {
   "cell_type": "code",
   "execution_count": 16,
   "metadata": {},
   "outputs": [],
   "source": [
    "#Louisville's average price is $.60 lower than HartfordSpringfield, which had the highest average price per avocado.\n",
    "#Louisville's maximum price and minimum price was lower as well.\n",
    "\n",
    "#Now we will illustrate this data using matplotlib\n",
    "import matplotlib.pyplot as plt"
   ]
  },
  {
   "cell_type": "code",
   "execution_count": 17,
   "metadata": {},
   "outputs": [
    {
     "data": {
      "image/png": "[encoded data removed]",
      "text/plain": [
       "<matplotlib.figure.Figure at 0x2600cd14908>"
      ]
     },
     "metadata": {},
     "output_type": "display_data"
    }
   ],
   "source": [
    "#Illustrate using a bar plot\n",
    "ax = Frame2[['AVG_REGION_PRICE','MIN_REGION_PRICE','MAX_REGION_PRICE']].plot(kind='bar', title =\"Louisville_Hartford_Comparison\", figsize=(15, 10), legend=True, fontsize=12)\n",
    "ax.set_xlabel(\"Region\", fontsize=12)\n",
    "ax.set_ylabel(\"Price in dollars\", fontsize=12)\n",
    "plt.show()"
   ]
  },
  {
   "cell_type": "code",
   "execution_count": 18,
   "metadata": {},
   "outputs": [],
   "source": [
    "#How does the average price of an avocado in Louisville compare region with the lowest average price?\n",
    "conn3 = sqlite3.connect('avocado.db')"
   ]
  },
  {
   "cell_type": "code",
   "execution_count": 19,
   "metadata": {},
   "outputs": [],
   "source": [
    "#Execute this SQL query to answer this question\n",
    "cur3 = conn3.cursor()\n",
    "avo3 = cur3.execute(\"\"\"\n",
    "  Select * from \n",
    "(\n",
    "SELECT \n",
    "REGION, \n",
    "AVG(AVERAGEPRICE) AS AVG_REGION_PRICE,\n",
    "MIN(AVERAGEPRICE) AS MIN_REGION_PRICE,\n",
    "MAX(AVERAGEPRICE) AS MAX_REGION_PRICE\n",
    "FROM AVOCADO\n",
    "GROUP BY REGION\n",
    "ORDER BY AVG(AVERAGEPRICE)\n",
    "LIMIT 1\n",
    ")\n",
    "\n",
    "UNION\n",
    "\n",
    "SELECT \n",
    "REGION, \n",
    "AVG(AVERAGEPRICE) AS AVG_REGION_PRICE,\n",
    "MIN(AVERAGEPRICE) AS MIN_REGION_PRICE,\n",
    "MAX(AVERAGEPRICE) AS MAX_REGION_PRICE\n",
    "FROM AVOCADO\n",
    "WHERE REGION = 'Louisville'\n",
    "GROUP BY REGION\n",
    "ORDER BY AVG(AVERAGEPRICE) DESC\n",
    ";\"\"\"\n",
    ").fetchall()"
   ]
  },
  {
   "cell_type": "code",
   "execution_count": 20,
   "metadata": {},
   "outputs": [],
   "source": [
    "#Create dataframe in order to illustrate this data\n",
    "df3 = pd.DataFrame(data=avo3)"
   ]
  },
  {
   "cell_type": "code",
   "execution_count": 21,
   "metadata": {},
   "outputs": [
    {
     "data": {
      "text/html": [
       "<div>\n",
       "<style scoped>\n",
       "    .dataframe tbody tr th:only-of-type {\n",
       "        vertical-align: middle;\n",
       "    }\n",
       "\n",
       "    .dataframe tbody tr th {\n",
       "        vertical-align: top;\n",
       "    }\n",
       "\n",
       "    .dataframe thead th {\n",
       "        text-align: right;\n",
       "    }\n",
       "</style>\n",
       "<table border=\"1\" class=\"dataframe\">\n",
       "  <thead>\n",
       "    <tr style=\"text-align: right;\">\n",
       "      <th></th>\n",
       "      <th>0</th>\n",
       "      <th>1</th>\n",
       "      <th>2</th>\n",
       "      <th>3</th>\n",
       "    </tr>\n",
       "  </thead>\n",
       "  <tbody>\n",
       "    <tr>\n",
       "      <th>0</th>\n",
       "      <td>Louisville</td>\n",
       "      <td>1.286686</td>\n",
       "      <td>0.56</td>\n",
       "      <td>2.29</td>\n",
       "    </tr>\n",
       "    <tr>\n",
       "      <th>1</th>\n",
       "      <td>Houston</td>\n",
       "      <td>1.047929</td>\n",
       "      <td>0.51</td>\n",
       "      <td>1.92</td>\n",
       "    </tr>\n",
       "  </tbody>\n",
       "</table>\n",
       "</div>"
      ],
      "text/plain": [
       "            0         1     2     3\n",
       "0  Louisville  1.286686  0.56  2.29\n",
       "1     Houston  1.047929  0.51  1.92"
      ]
     },
     "execution_count": 21,
     "metadata": {},
     "output_type": "execute_result"
    }
   ],
   "source": [
    "#Preview data\n",
    "df3.head()"
   ]
  },
  {
   "cell_type": "code",
   "execution_count": 22,
   "metadata": {},
   "outputs": [
    {
     "name": "stdout",
     "output_type": "stream",
     "text": [
      "REGION\n",
      "AVG_REGION_PRICE\n",
      "MIN_REGION_PRICE\n",
      "MAX_REGION_PRICE\n"
     ]
    }
   ],
   "source": [
    "#Once again we will need to add the column names\n",
    "colnames3 = cur3.description\n",
    "for row in colnames3:\n",
    "    print (row[0])"
   ]
  },
  {
   "cell_type": "code",
   "execution_count": 23,
   "metadata": {},
   "outputs": [],
   "source": [
    "Frame3=pd.DataFrame(avo3, columns = [\"REGION\", \"AVG_REGION_PRICE\", \"MIN_REGION_PRICE\",\"MAX_REGION_PRICE\"])"
   ]
  },
  {
   "cell_type": "code",
   "execution_count": 24,
   "metadata": {},
   "outputs": [
    {
     "data": {
      "text/html": [
       "<div>\n",
       "<style scoped>\n",
       "    .dataframe tbody tr th:only-of-type {\n",
       "        vertical-align: middle;\n",
       "    }\n",
       "\n",
       "    .dataframe tbody tr th {\n",
       "        vertical-align: top;\n",
       "    }\n",
       "\n",
       "    .dataframe thead th {\n",
       "        text-align: right;\n",
       "    }\n",
       "</style>\n",
       "<table border=\"1\" class=\"dataframe\">\n",
       "  <thead>\n",
       "    <tr style=\"text-align: right;\">\n",
       "      <th></th>\n",
       "      <th>REGION</th>\n",
       "      <th>AVG_REGION_PRICE</th>\n",
       "      <th>MIN_REGION_PRICE</th>\n",
       "      <th>MAX_REGION_PRICE</th>\n",
       "    </tr>\n",
       "  </thead>\n",
       "  <tbody>\n",
       "    <tr>\n",
       "      <th>0</th>\n",
       "      <td>Louisville</td>\n",
       "      <td>1.286686</td>\n",
       "      <td>0.56</td>\n",
       "      <td>2.29</td>\n",
       "    </tr>\n",
       "    <tr>\n",
       "      <th>1</th>\n",
       "      <td>Houston</td>\n",
       "      <td>1.047929</td>\n",
       "      <td>0.51</td>\n",
       "      <td>1.92</td>\n",
       "    </tr>\n",
       "  </tbody>\n",
       "</table>\n",
       "</div>"
      ],
      "text/plain": [
       "       REGION  AVG_REGION_PRICE  MIN_REGION_PRICE  MAX_REGION_PRICE\n",
       "0  Louisville          1.286686              0.56              2.29\n",
       "1     Houston          1.047929              0.51              1.92"
      ]
     },
     "execution_count": 24,
     "metadata": {},
     "output_type": "execute_result"
    }
   ],
   "source": [
    "#Column names are now added\n",
    "Frame3.head()"
   ]
  },
  {
   "cell_type": "code",
   "execution_count": 26,
   "metadata": {},
   "outputs": [
    {
     "data": {
      "image/png": "[encoded data removed]",
      "text/plain": [
       "<matplotlib.figure.Figure at 0x2600d0247f0>"
      ]
     },
     "metadata": {},
     "output_type": "display_data"
    }
   ],
   "source": [
    "#Louisville's average price is $.24 more expensive than Houston, which has the cheapest avocados on average.\n",
    "#Louisville' minimum price is slightly higher while it's maximum price is noticeably higher.\n",
    "\n",
    "#Use another bar plot to illustrate this data\n",
    "ax = Frame3[['AVG_REGION_PRICE','MIN_REGION_PRICE','MAX_REGION_PRICE']].plot(kind='bar', title =\"Louisville_Houston_Comparison\", figsize=(15, 10), legend=True, fontsize=12)\n",
    "ax.set_xlabel(\"Region\", fontsize=12)\n",
    "ax.set_ylabel(\"Price in dollars\", fontsize=12)\n",
    "plt.show()"
   ]
  },
  {
   "cell_type": "code",
   "execution_count": null,
   "metadata": {},
   "outputs": [],
   "source": [
    "####################END############################################################"
   ]
  },
  {
   "cell_type": "code",
   "execution_count": null,
   "metadata": {},
   "outputs": [],
   "source": []
  }
 ],
 "metadata": {
  "kernelspec": {
   "display_name": "Python 3",
   "language": "python",
   "name": "python3"
  },
  "language_info": {
   "codemirror_mode": {
    "name": "ipython",
    "version": 3
   },
   "file_extension": ".py",
   "mimetype": "text/x-python",
   "name": "python",
   "nbconvert_exporter": "python",
   "pygments_lexer": "ipython3",
   "version": "3.6.4"
  }
 },
 "nbformat": 4,
 "nbformat_minor": 2
}
